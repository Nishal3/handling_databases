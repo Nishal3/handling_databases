{
 "cells": [
  {
   "cell_type": "markdown",
   "id": "99b84d94",
   "metadata": {},
   "source": [
    "# Extracting Mental Health Data to PostgreSQL"
   ]
  },
  {
   "cell_type": "markdown",
   "id": "d4c67db3",
   "metadata": {},
   "source": [
    "## Import Packages"
   ]
  },
  {
   "cell_type": "code",
   "execution_count": 3,
   "id": "98c4323a",
   "metadata": {},
   "outputs": [],
   "source": [
    "import psycopg2\n",
    "import sqlite3\n",
    "import pandas as pd"
   ]
  },
  {
   "cell_type": "markdown",
   "id": "8587edae",
   "metadata": {},
   "source": [
    "## Connect to DB in SQLite and Make a Pandas DataFrame"
   ]
  },
  {
   "cell_type": "code",
   "execution_count": 28,
   "id": "ca1516e5",
   "metadata": {},
   "outputs": [],
   "source": [
    "# SQLite connection\n",
    "sqliteConnection = sqlite3.connect(\"Data/mental_health.sqlite\")\n",
    "\n",
    "# Run the commented out section to see the tables\n",
    "# sql_query = \"\"\"SELECT name FROM sqlite_master  \n",
    "#   WHERE type='table';\"\"\"\n",
    "\n",
    "# sqlite_cursor = sqliteConnection.cursor()\n",
    "# sqlite_cursor.execute(sql_query)\n",
    "# print(sqlite_cursor.fetchall())\n",
    "\n",
    "# Pandas DF\n",
    "pd_answer_db = pd.read_sql(\"SELECT * FROM Answer\", sqliteConnection)\n",
    "pd_question_db = pd.read_sql(\"SELECT * FROM Question\", sqliteConnection)\n",
    "pd_survey_db = pd.read_sql(\"SELECT * FROM Survey\", sqliteConnection) \n"
   ]
  },
  {
   "cell_type": "markdown",
   "id": "b15e4caf",
   "metadata": {},
   "source": [
    "## Structure of Data"
   ]
  },
  {
   "cell_type": "code",
   "execution_count": 29,
   "id": "35c22c1c",
   "metadata": {},
   "outputs": [
    {
     "name": "stdout",
     "output_type": "stream",
     "text": [
      "  AnswerText  SurveyID  UserID  QuestionID\n",
      "0         37      2014       1           1\n",
      "1         44      2014       2           1\n",
      "2         32      2014       3           1\n",
      "3         31      2014       4           1\n",
      "4         31      2014       5           1\n",
      "-------------------\n",
      "                                        questiontext  questionid\n",
      "0                                  What is your age?           1\n",
      "1                               What is your gender?           2\n",
      "2                       What country do you live in?           3\n",
      "3  If you live in the United States, which state ...           4\n",
      "4                             Are you self-employed?           5\n",
      "-------------------\n",
      "   SurveyID                    Description\n",
      "0      2014  mental health survey for 2014\n",
      "1      2016  mental health survey for 2016\n",
      "2      2017  mental health survey for 2017\n",
      "3      2018  mental health survey for 2018\n",
      "4      2019  mental health survey for 2019\n"
     ]
    }
   ],
   "source": [
    "print(pd_answer_db.head())\n",
    "print(\"-------------------\")\n",
    "print(pd_question_db.head())\n",
    "print(\"-------------------\")\n",
    "print(pd_survey_db.head())"
   ]
  },
  {
   "cell_type": "markdown",
   "id": "5d8a859c",
   "metadata": {},
   "source": [
    "## Get General Information About Data"
   ]
  },
  {
   "cell_type": "code",
   "execution_count": 35,
   "id": "104a021a",
   "metadata": {},
   "outputs": [
    {
     "name": "stdout",
     "output_type": "stream",
     "text": [
      "            SurveyID         UserID     QuestionID\n",
      "count  236898.000000  236898.000000  236898.000000\n",
      "mean     2016.572297    2514.516619      48.655898\n",
      "std         1.421134    1099.462747      36.126215\n",
      "min      2014.000000       1.000000       1.000000\n",
      "25%      2016.000000    1691.000000      15.000000\n",
      "50%      2016.000000    2652.000000      48.000000\n",
      "75%      2017.000000    3439.000000      80.000000\n",
      "max      2019.000000    4218.000000     118.000000\n",
      "--------------------------------------------------\n",
      "<class 'pandas.core.frame.DataFrame'>\n",
      "RangeIndex: 236898 entries, 0 to 236897\n",
      "Data columns (total 4 columns):\n",
      " #   Column      Non-Null Count   Dtype \n",
      "---  ------      --------------   ----- \n",
      " 0   AnswerText  236898 non-null  object\n",
      " 1   SurveyID    236898 non-null  int64 \n",
      " 2   UserID      236898 non-null  int64 \n",
      " 3   QuestionID  236898 non-null  int64 \n",
      "dtypes: int64(3), object(1)\n",
      "memory usage: 7.2+ MB\n",
      "None\n",
      "\n",
      "----------------------------------------------------------------------------------------------------\n",
      "\n",
      "       questionid\n",
      "count  105.000000\n",
      "mean    61.790476\n",
      "std     35.589458\n",
      "min      1.000000\n",
      "25%     27.000000\n",
      "50%     66.000000\n",
      "75%     92.000000\n",
      "max    118.000000\n",
      "--------------------------------------------------\n",
      "<class 'pandas.core.frame.DataFrame'>\n",
      "RangeIndex: 105 entries, 0 to 104\n",
      "Data columns (total 2 columns):\n",
      " #   Column        Non-Null Count  Dtype \n",
      "---  ------        --------------  ----- \n",
      " 0   questiontext  105 non-null    object\n",
      " 1   questionid    105 non-null    int64 \n",
      "dtypes: int64(1), object(1)\n",
      "memory usage: 1.8+ KB\n",
      "None\n",
      "\n",
      "----------------------------------------------------------------------------------------------------\n",
      "\n",
      "          SurveyID\n",
      "count     5.000000\n",
      "mean   2016.800000\n",
      "std       1.923538\n",
      "min    2014.000000\n",
      "25%    2016.000000\n",
      "50%    2017.000000\n",
      "75%    2018.000000\n",
      "max    2019.000000\n",
      "--------------------------------------------------\n",
      "<class 'pandas.core.frame.DataFrame'>\n",
      "RangeIndex: 5 entries, 0 to 4\n",
      "Data columns (total 2 columns):\n",
      " #   Column       Non-Null Count  Dtype \n",
      "---  ------       --------------  ----- \n",
      " 0   SurveyID     5 non-null      int64 \n",
      " 1   Description  5 non-null      object\n",
      "dtypes: int64(1), object(1)\n",
      "memory usage: 208.0+ bytes\n",
      "None\n",
      "\n",
      "----------------------------------------------------------------------------------------------------\n",
      "\n"
     ]
    }
   ],
   "source": [
    "print(pd_answer_db.describe())\n",
    "print(\"-\"*50)\n",
    "print(pd_answer_db.info())\n",
    "print(\"\\n\"+ \"-\"*100 + \"\\n\")\n",
    "\n",
    "print(pd_question_db.describe())\n",
    "print(\"-\"*50)\n",
    "print(pd_question_db.info())\n",
    "print(\"\\n\"+ \"-\"*100 + \"\\n\")\n",
    "\n",
    "print(pd_survey_db.describe())\n",
    "print(\"-\"*50)\n",
    "print(pd_survey_db.info())\n",
    "print(\"\\n\"+ \"-\"*100 + \"\\n\")"
   ]
  },
  {
   "cell_type": "markdown",
   "id": "8e0729a3",
   "metadata": {},
   "source": [
    "## Getting Connection with Local PostgreSQL Database"
   ]
  },
  {
   "cell_type": "code",
   "execution_count": 36,
   "id": "3f7e7a8e",
   "metadata": {},
   "outputs": [
    {
     "ename": "OperationalError",
     "evalue": "connection to server at \"localhost\" (::1), port 5432 failed: fe_sendauth: no password supplied\n",
     "output_type": "error",
     "traceback": [
      "\u001b[1;31m---------------------------------------------------------------------------\u001b[0m",
      "\u001b[1;31mOperationalError\u001b[0m                          Traceback (most recent call last)",
      "\u001b[1;32m~\\AppData\\Local\\Temp\\ipykernel_6560\\146230409.py\u001b[0m in \u001b[0;36m<module>\u001b[1;34m\u001b[0m\n\u001b[1;32m----> 1\u001b[1;33m \u001b[0mpsycoConnection\u001b[0m \u001b[1;33m=\u001b[0m \u001b[0mpsycopg2\u001b[0m\u001b[1;33m.\u001b[0m\u001b[0mconnect\u001b[0m\u001b[1;33m(\u001b[0m\u001b[1;33m)\u001b[0m\u001b[1;33m\u001b[0m\u001b[1;33m\u001b[0m\u001b[0m\n\u001b[0m",
      "\u001b[1;32m~\\anaconda3\\lib\\site-packages\\psycopg2\\__init__.py\u001b[0m in \u001b[0;36mconnect\u001b[1;34m(dsn, connection_factory, cursor_factory, **kwargs)\u001b[0m\n\u001b[0;32m    120\u001b[0m \u001b[1;33m\u001b[0m\u001b[0m\n\u001b[0;32m    121\u001b[0m     \u001b[0mdsn\u001b[0m \u001b[1;33m=\u001b[0m \u001b[0m_ext\u001b[0m\u001b[1;33m.\u001b[0m\u001b[0mmake_dsn\u001b[0m\u001b[1;33m(\u001b[0m\u001b[0mdsn\u001b[0m\u001b[1;33m,\u001b[0m \u001b[1;33m**\u001b[0m\u001b[0mkwargs\u001b[0m\u001b[1;33m)\u001b[0m\u001b[1;33m\u001b[0m\u001b[1;33m\u001b[0m\u001b[0m\n\u001b[1;32m--> 122\u001b[1;33m     \u001b[0mconn\u001b[0m \u001b[1;33m=\u001b[0m \u001b[0m_connect\u001b[0m\u001b[1;33m(\u001b[0m\u001b[0mdsn\u001b[0m\u001b[1;33m,\u001b[0m \u001b[0mconnection_factory\u001b[0m\u001b[1;33m=\u001b[0m\u001b[0mconnection_factory\u001b[0m\u001b[1;33m,\u001b[0m \u001b[1;33m**\u001b[0m\u001b[0mkwasync\u001b[0m\u001b[1;33m)\u001b[0m\u001b[1;33m\u001b[0m\u001b[1;33m\u001b[0m\u001b[0m\n\u001b[0m\u001b[0;32m    123\u001b[0m     \u001b[1;32mif\u001b[0m \u001b[0mcursor_factory\u001b[0m \u001b[1;32mis\u001b[0m \u001b[1;32mnot\u001b[0m \u001b[1;32mNone\u001b[0m\u001b[1;33m:\u001b[0m\u001b[1;33m\u001b[0m\u001b[1;33m\u001b[0m\u001b[0m\n\u001b[0;32m    124\u001b[0m         \u001b[0mconn\u001b[0m\u001b[1;33m.\u001b[0m\u001b[0mcursor_factory\u001b[0m \u001b[1;33m=\u001b[0m \u001b[0mcursor_factory\u001b[0m\u001b[1;33m\u001b[0m\u001b[1;33m\u001b[0m\u001b[0m\n",
      "\u001b[1;31mOperationalError\u001b[0m: connection to server at \"localhost\" (::1), port 5432 failed: fe_sendauth: no password supplied\n"
     ]
    }
   ],
   "source": [
    "psycoConnection = psycopg2.connect()"
   ]
  },
  {
   "cell_type": "code",
   "execution_count": null,
   "id": "b3df6a31",
   "metadata": {},
   "outputs": [],
   "source": []
  }
 ],
 "metadata": {
  "kernelspec": {
   "display_name": "Python 3 (ipykernel)",
   "language": "python",
   "name": "python3"
  },
  "language_info": {
   "codemirror_mode": {
    "name": "ipython",
    "version": 3
   },
   "file_extension": ".py",
   "mimetype": "text/x-python",
   "name": "python",
   "nbconvert_exporter": "python",
   "pygments_lexer": "ipython3",
   "version": "3.9.13"
  }
 },
 "nbformat": 4,
 "nbformat_minor": 5
}
